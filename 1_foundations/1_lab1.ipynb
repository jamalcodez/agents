{
 "cells": [
  {
   "cell_type": "markdown",
   "metadata": {},
   "source": [
    "# Welcome to the start of your adventure in Agentic AI"
   ]
  },
  {
   "cell_type": "markdown",
   "metadata": {},
   "source": [
    "<table style=\"margin: 0; text-align: left; width:100%\">\n",
    "    <tr>\n",
    "        <td style=\"width: 150px; height: 150px; vertical-align: middle;\">\n",
    "            <img src=\"../assets/stop.png\" width=\"150\" height=\"150\" style=\"display: block;\" />\n",
    "        </td>\n",
    "        <td>\n",
    "            <h2 style=\"color:#ff7800;\">Are you ready for action??</h2>\n",
    "            <span style=\"color:#ff7800;\">Have you completed all the setup steps in the <a href=\"../setup/\">setup</a> folder?<br/>\n",
    "            Have you checked out the guides in the <a href=\"../guides/01_intro.ipynb\">guides</a> folder?<br/>\n",
    "            Well in that case, you're ready!!\n",
    "            </span>\n",
    "        </td>\n",
    "    </tr>\n",
    "</table>"
   ]
  },
  {
   "cell_type": "markdown",
   "metadata": {},
   "source": [
    "<table style=\"margin: 0; text-align: left; width:100%\">\n",
    "    <tr>\n",
    "        <td style=\"width: 150px; height: 150px; vertical-align: middle;\">\n",
    "            <img src=\"../assets/tools.png\" width=\"150\" height=\"150\" style=\"display: block;\" />\n",
    "        </td>\n",
    "        <td>\n",
    "            <h2 style=\"color:#00bfff;\">Treat these labs as a resource</h2>\n",
    "            <span style=\"color:#00bfff;\">I push updates to the code regularly. When people ask questions or have problems, I incorporate it in the code, adding more examples or improved commentary. As a result, you'll notice that the code below isn't identical to the videos. Everything from the videos is here; but in addition, I've added more steps and better explanations. Consider this like an interactive book that accompanies the lectures.\n",
    "            </span>\n",
    "        </td>\n",
    "    </tr>\n",
    "</table>"
   ]
  },
  {
   "cell_type": "markdown",
   "metadata": {},
   "source": [
    "### And please do remember to contact me if I can help\n",
    "\n",
    "And I love to connect: https://www.linkedin.com/in/eddonner/\n",
    "\n",
    "\n",
    "### New to Notebooks like this one? Head over to the guides folder!\n",
    "\n",
    "Just to check you've already added the Python and Jupyter extensions to Cursor, if not already installed:\n",
    "- Open extensions (View >> extensions)\n",
    "- Search for python, and when the results show, click on the ms-python one, and Install it if not already installed\n",
    "- Search for jupyter, and when the results show, click on the Microsoft one, and Install it if not already installed  \n",
    "Then View >> Explorer to bring back the File Explorer.\n",
    "\n",
    "And then:\n",
    "1. Click where it says \"Select Kernel\" near the top right, and select the option called `.venv (Python 3.12.9)` or similar, which should be the first choice or the most prominent choice. You may need to choose \"Python Environments\" first.\n",
    "2. Click in each \"cell\" below, starting with the cell immediately below this text, and press Shift+Enter to run\n",
    "3. Enjoy!\n",
    "\n",
    "After you click \"Select Kernel\", if there is no option like `.venv (Python 3.12.9)` then please do the following:  \n",
    "1. From the Cursor menu, choose Settings >> VSCode Settings (NOTE: be sure to select `VSCode Settings` not `Cursor Settings`)  \n",
    "2. In the Settings search bar, type \"venv\"  \n",
    "3. In the field \"Path to folder with a list of Virtual Environments\" put the path to the project root, like C:\\Users\\username\\projects\\agents (on a Windows PC) or /Users/username/projects/agents (on Mac or Linux).  \n",
    "And then try again.\n",
    "\n",
    "Having problems with missing Python versions in that list? Have you ever used Anaconda before? It might be interferring. Quit Cursor, bring up a new command line, and make sure that your Anaconda environment is deactivated:    \n",
    "`conda deactivate`  \n",
    "And if you still have any problems with conda and python versions, it's possible that you will need to run this too:  \n",
    "`conda config --set auto_activate_base false`  \n",
    "and then from within the Agents directory, you should be able to run `uv python list` and see the Python 3.12 version."
   ]
  },
  {
   "cell_type": "code",
   "execution_count": 1,
   "metadata": {},
   "outputs": [],
   "source": [
    "# First let's do an import\n",
    "from dotenv import load_dotenv\n"
   ]
  },
  {
   "cell_type": "code",
   "execution_count": 2,
   "metadata": {},
   "outputs": [
    {
     "data": {
      "text/plain": [
       "True"
      ]
     },
     "execution_count": 2,
     "metadata": {},
     "output_type": "execute_result"
    }
   ],
   "source": [
    "# Next it's time to load the API keys into environment variables\n",
    "\n",
    "load_dotenv(override=True)"
   ]
  },
  {
   "cell_type": "code",
   "execution_count": 3,
   "metadata": {},
   "outputs": [
    {
     "name": "stdout",
     "output_type": "stream",
     "text": [
      "OpenAI API Key exists and begins sk-proj-\n"
     ]
    }
   ],
   "source": [
    "# Check the keys\n",
    "\n",
    "import os\n",
    "openai_api_key = os.getenv('OPENAI_API_KEY')\n",
    "\n",
    "if openai_api_key:\n",
    "    print(f\"OpenAI API Key exists and begins {openai_api_key[:8]}\")\n",
    "else:\n",
    "    print(\"OpenAI API Key not set - please head to the troubleshooting guide in the guides folder\")\n",
    "    \n"
   ]
  },
  {
   "cell_type": "code",
   "execution_count": 4,
   "metadata": {},
   "outputs": [],
   "source": [
    "# And now - the all important import statement\n",
    "# If you get an import error - head over to troubleshooting guide\n",
    "\n",
    "from openai import OpenAI"
   ]
  },
  {
   "cell_type": "code",
   "execution_count": 5,
   "metadata": {},
   "outputs": [],
   "source": [
    "# And now we'll create an instance of the OpenAI class\n",
    "# If you're not sure what it means to create an instance of a class - head over to the guides folder!\n",
    "# If you get a NameError - head over to the guides folder to learn about NameErrors\n",
    "\n",
    "openai = OpenAI()"
   ]
  },
  {
   "cell_type": "code",
   "execution_count": 6,
   "metadata": {},
   "outputs": [],
   "source": [
    "# Create a list of messages in the familiar OpenAI format\n",
    "\n",
    "messages = [{\"role\": \"user\", \"content\": \"What is 2+2?\"}]"
   ]
  },
  {
   "cell_type": "code",
   "execution_count": 7,
   "metadata": {},
   "outputs": [
    {
     "name": "stdout",
     "output_type": "stream",
     "text": [
      "2 + 2 equals 4.\n"
     ]
    }
   ],
   "source": [
    "# And now call it! Any problems, head to the troubleshooting guide\n",
    "\n",
    "response = openai.chat.completions.create(\n",
    "    model=\"gpt-4o-mini\",\n",
    "    messages=messages\n",
    ")\n",
    "\n",
    "print(response.choices[0].message.content)\n",
    "\n",
    "\n"
   ]
  },
  {
   "cell_type": "code",
   "execution_count": 8,
   "metadata": {},
   "outputs": [],
   "source": [
    "# And now - let's ask for a question:\n",
    "\n",
    "question = \"Please propose a hard, challenging question to assess someone's IQ. Respond only with the question.\"\n",
    "messages = [{\"role\": \"user\", \"content\": question}]\n"
   ]
  },
  {
   "cell_type": "code",
   "execution_count": 9,
   "metadata": {},
   "outputs": [
    {
     "name": "stdout",
     "output_type": "stream",
     "text": [
      "If a train leaves Station A traveling at 60 miles per hour and another train leaves Station B, 180 miles away from Station A, traveling at 90 miles per hour towards Station A, what time will it take for the two trains to meet?\n"
     ]
    }
   ],
   "source": [
    "# ask it\n",
    "response = openai.chat.completions.create(\n",
    "    model=\"gpt-4o-mini\",\n",
    "    messages=messages\n",
    ")\n",
    "\n",
    "question = response.choices[0].message.content\n",
    "\n",
    "print(question)\n"
   ]
  },
  {
   "cell_type": "code",
   "execution_count": 10,
   "metadata": {},
   "outputs": [],
   "source": [
    "# form a new messages list\n",
    "messages = [{\"role\": \"user\", \"content\": question}]\n"
   ]
  },
  {
   "cell_type": "code",
   "execution_count": 11,
   "metadata": {},
   "outputs": [
    {
     "name": "stdout",
     "output_type": "stream",
     "text": [
      "To determine when the two trains will meet, we first need to establish their speeds and the distance between them.\n",
      "\n",
      "Train A is traveling at 60 miles per hour, and Train B is traveling at 90 miles per hour. The distance between the two stations is 180 miles.\n",
      "\n",
      "To find the time until they meet, we can use the formula:\n",
      "\n",
      "\\[\n",
      "\\text{Time} = \\frac{\\text{Distance}}{\\text{Relative Speed}}\n",
      "\\]\n",
      "\n",
      "The relative speed is the sum of the speeds of both trains since they are moving towards each other:\n",
      "\n",
      "\\[\n",
      "\\text{Relative Speed} = 60 \\text{ mph} + 90 \\text{ mph} = 150 \\text{ mph}\n",
      "\\]\n",
      "\n",
      "Now we can calculate the time it takes for them to meet:\n",
      "\n",
      "\\[\n",
      "\\text{Time} = \\frac{180 \\text{ miles}}{150 \\text{ mph}} = 1.2 \\text{ hours}\n",
      "\\]\n",
      "\n",
      "To convert 1.2 hours into minutes, we multiply by 60:\n",
      "\n",
      "\\[\n",
      "1.2 \\text{ hours} \\times 60 \\text{ minutes/hour} = 72 \\text{ minutes}\n",
      "\\]\n",
      "\n",
      "Thus, it will take 1.2 hours, or 72 minutes, for the two trains to meet.\n"
     ]
    }
   ],
   "source": [
    "# Ask it again\n",
    "\n",
    "response = openai.chat.completions.create(\n",
    "    model=\"gpt-4o-mini\",\n",
    "    messages=messages\n",
    ")\n",
    "\n",
    "answer = response.choices[0].message.content\n",
    "print(answer)\n"
   ]
  },
  {
   "cell_type": "code",
   "execution_count": null,
   "metadata": {},
   "outputs": [],
   "source": []
  },
  {
   "cell_type": "code",
   "execution_count": 12,
   "metadata": {},
   "outputs": [
    {
     "data": {
      "text/markdown": [
       "To determine when the two trains will meet, we first need to establish their speeds and the distance between them.\n",
       "\n",
       "Train A is traveling at 60 miles per hour, and Train B is traveling at 90 miles per hour. The distance between the two stations is 180 miles.\n",
       "\n",
       "To find the time until they meet, we can use the formula:\n",
       "\n",
       "\\[\n",
       "\\text{Time} = \\frac{\\text{Distance}}{\\text{Relative Speed}}\n",
       "\\]\n",
       "\n",
       "The relative speed is the sum of the speeds of both trains since they are moving towards each other:\n",
       "\n",
       "\\[\n",
       "\\text{Relative Speed} = 60 \\text{ mph} + 90 \\text{ mph} = 150 \\text{ mph}\n",
       "\\]\n",
       "\n",
       "Now we can calculate the time it takes for them to meet:\n",
       "\n",
       "\\[\n",
       "\\text{Time} = \\frac{180 \\text{ miles}}{150 \\text{ mph}} = 1.2 \\text{ hours}\n",
       "\\]\n",
       "\n",
       "To convert 1.2 hours into minutes, we multiply by 60:\n",
       "\n",
       "\\[\n",
       "1.2 \\text{ hours} \\times 60 \\text{ minutes/hour} = 72 \\text{ minutes}\n",
       "\\]\n",
       "\n",
       "Thus, it will take 1.2 hours, or 72 minutes, for the two trains to meet."
      ],
      "text/plain": [
       "<IPython.core.display.Markdown object>"
      ]
     },
     "metadata": {},
     "output_type": "display_data"
    }
   ],
   "source": [
    "from IPython.display import Markdown, display\n",
    "\n",
    "display(Markdown(answer))\n",
    "\n"
   ]
  },
  {
   "cell_type": "markdown",
   "metadata": {},
   "source": [
    "# Congratulations!\n",
    "\n",
    "That was a small, simple step in the direction of Agentic AI, with your new environment!\n",
    "\n",
    "Next time things get more interesting..."
   ]
  },
  {
   "cell_type": "markdown",
   "metadata": {},
   "source": [
    "<table style=\"margin: 0; text-align: left; width:100%\">\n",
    "    <tr>\n",
    "        <td style=\"width: 150px; height: 150px; vertical-align: middle;\">\n",
    "            <img src=\"../assets/exercise.png\" width=\"150\" height=\"150\" style=\"display: block;\" />\n",
    "        </td>\n",
    "        <td>\n",
    "            <h2 style=\"color:#ff7800;\">Exercise</h2>\n",
    "            <span style=\"color:#ff7800;\">Now try this commercial application:<br/>\n",
    "            First ask the LLM to pick a business area that might be worth exploring for an Agentic AI opportunity.<br/>\n",
    "            Then ask the LLM to present a pain-point in that industry - something challenging that might be ripe for an Agentic solution.<br/>\n",
    "            Finally have 3 third LLM call propose the Agentic AI solution.\n",
    "            </span>\n",
    "        </td>\n",
    "    </tr>\n",
    "</table>"
   ]
  },
  {
   "cell_type": "code",
   "execution_count": 15,
   "metadata": {},
   "outputs": [
    {
     "name": "stdout",
     "output_type": "stream",
     "text": [
      "### Pain Point in the Self-Development Industry\n",
      "\n",
      "One significant pain point in the self-development industry is the lack of personalized guidance and accountability in personal growth journeys. Many individuals seeking self-improvement often find themselves overwhelmed by the abundance of resources available (books, courses, podcasts, etc.) and struggle to tailor these resources to their unique contexts and needs. Additionally, many self-development programs are one-size-fits-all and fail to adapt to changing circumstances, making it difficult for individuals to stay motivated and accountable over time.\n",
      "\n",
      "### Proposed Solution using Agentic AI\n",
      "\n",
      "**Solution: AI-Powered Personal Development Assistant**\n",
      "\n",
      "Imagine an agentic AI that acts as a personalized life coach, providing tailored feedback, resources, and accountability for individuals on their self-development journeys. This AI could function in the following ways:\n",
      "\n",
      "1. **Personalized Assessment and Goal Setting**: \n",
      "   - The AI can begin by conducting an initial assessment through a series of targeted questions to understand an individual’s goals, strengths, weaknesses, interests, and lifestyle. Based on this information, it can help users set specific, measurable, achievable, relevant, and time-bound (SMART) goals.\n",
      "\n",
      "2. **Dynamic Resource Curator**: \n",
      "   - The AI continually curates a personalized library of self-development resources—books, articles, online courses, podcasts, and exercises—tailored to individual preferences and progress. As users engage with these resources and provide feedback, the AI dynamically adjusts recommendations.\n",
      "\n",
      "3. **Adaptive Learning Pathway**:\n",
      "   - The AI can design a customizable learning pathway that evolves in real-time based on the user's engagement and outcomes. If a certain area is proving challenging, the AI can introduce alternative strategies or resources and track user engagement continuously.\n",
      "\n",
      "4. **Accountability and Motivation**:\n",
      "   - The AI can set up virtual check-ins and reminders to encourage users to stay on track with their goals. It might even use motivational techniques such as positive reinforcement, challenges, or gamification elements to maintain engagement.\n",
      "\n",
      "5. **Community Integration**:\n",
      "   - The AI can also facilitate connections with other users pursuing similar goals, creating a community support network where individuals can share experiences, challenges, and successes.\n",
      "\n",
      "6. **Progress Tracking and Analytics**:\n",
      "   - Advanced analytics can help users visualize their progress over time, providing insights into patterns and areas for improvement. This allows the AI to suggest modifications to the learning plan and celebrate milestones to encourage continued effort.\n",
      "\n",
      "### Implementation\n",
      "\n",
      "To bring this solution to life, developers could collaborate with psychologists and self-development experts to create a robust algorithm that understands human behavior and motivation. The platform can be launched as an app or a web-based service that users can access anytime and anywhere, making it not only convenient but also deeply integrated into their daily routines.\n",
      "\n",
      "In summary, an AI-powered personal development assistant can effectively address the personalization and accountability gap in the self-development industry by leveraging adaptive learning, community support, and continuous improvement tracking, thereby enhancing the overall experience and outcomes for users.\n"
     ]
    }
   ],
   "source": [
    "# First create the messages:\n",
    "\n",
    "exercise = \"Can you help me find a agentic ai opportunity in the self development industry?First, identify a pain point in the self development industry. Then, propose a solution using agentic ai.\"\n",
    "\n",
    "messages = [{\"role\": \"user\", \"content\": exercise}]\n",
    "\n",
    "# Then make the first call:\n",
    "\n",
    "response = openai.chat.completions.create( \n",
    "    model=\"gpt-4o-mini\",\n",
    "    messages=messages\n",
    ")\n",
    "\n",
    "# Then read the business idea:\n",
    "\n",
    "business_idea = response.choices[0].message.content\n",
    "print(business_idea)\n",
    "# And repeat!"
   ]
  },
  {
   "cell_type": "markdown",
   "metadata": {},
   "source": []
  },
  {
   "cell_type": "code",
   "execution_count": null,
   "metadata": {},
   "outputs": [],
   "source": []
  }
 ],
 "metadata": {
  "kernelspec": {
   "display_name": ".venv",
   "language": "python",
   "name": "python3"
  },
  "language_info": {
   "codemirror_mode": {
    "name": "ipython",
    "version": 3
   },
   "file_extension": ".py",
   "mimetype": "text/x-python",
   "name": "python",
   "nbconvert_exporter": "python",
   "pygments_lexer": "ipython3",
   "version": "3.12.10"
  }
 },
 "nbformat": 4,
 "nbformat_minor": 2
}
